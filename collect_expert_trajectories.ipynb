{
 "cells": [
  {
   "cell_type": "code",
   "execution_count": 1,
   "id": "b5c5547a",
   "metadata": {
    "lines_to_next_cell": 1
   },
   "outputs": [
    {
     "name": "stderr",
     "output_type": "stream",
     "text": [
      "pybullet build time: May 20 2022 19:45:31\n"
     ]
    },
    {
     "name": "stdout",
     "output_type": "stream",
     "text": [
      "✅ surrol.gym/__init__.py has been imported!\n"
     ]
    }
   ],
   "source": [
    "import pickle\n",
    "from surrol.tasks.needle_pick import NeedlePick"
   ]
  },
  {
   "cell_type": "code",
   "execution_count": 2,
   "id": "bedc6a18",
   "metadata": {
    "lines_to_next_cell": 1
   },
   "outputs": [],
   "source": [
    "def collect_expert_trajectories(num_episodes=100, max_steps=100, save_path=\"expert_trajectories.pkl\"):\n",
    "    env = NeedlePick(render_mode=None)  # No GUI for faster collection\n",
    "    trajectories = []\n",
    "    \n",
    "    for episode in range(num_episodes):\n",
    "        obs = env.reset()\n",
    "        episode_data = {\n",
    "            'observations': [],\n",
    "            'actions': [],\n",
    "            'rewards': [],\n",
    "            'dones': [],\n",
    "            'infos': []\n",
    "        }\n",
    "        episode_success = False\n",
    "        for step in range(max_steps):\n",
    "            action = env.get_oracle_action(obs)\n",
    "            next_obs, reward, done, info = env.step(action)\n",
    "            \n",
    "            episode_data['observations'].append(obs)\n",
    "            episode_data['actions'].append(action)\n",
    "            episode_data['rewards'].append(reward)\n",
    "            episode_data['dones'].append(done)\n",
    "            episode_data['infos'].append(info)\n",
    "            \n",
    "            # Check for success at this step\n",
    "            if info.get('is_success', False):\n",
    "                episode_success = True\n",
    "            \n",
    "            obs = next_obs\n",
    "            if done:\n",
    "                break\n",
    "        trajectories.append(episode_data)\n",
    "        print(f\"Episode {episode+1}/{num_episodes} finished after {step+1} steps. Success: {episode_success}\")\n",
    "\n",
    "    with open(save_path, \"wb\") as f:\n",
    "        pickle.dump(trajectories, f)\n",
    "    print(f\"Saved {num_episodes} expert trajectories to {save_path}\")"
   ]
  },
  {
   "cell_type": "code",
   "execution_count": 3,
   "id": "2d87f008",
   "metadata": {},
   "outputs": [
    {
     "name": "stdout",
     "output_type": "stream",
     "text": [
      "Episode 1/100 finished after 100 steps. Success: True\n",
      "Episode 2/100 finished after 100 steps. Success: True\n",
      "Episode 3/100 finished after 100 steps. Success: True\n",
      "Episode 4/100 finished after 100 steps. Success: True\n",
      "Episode 5/100 finished after 100 steps. Success: True\n",
      "Episode 6/100 finished after 100 steps. Success: True\n",
      "Episode 7/100 finished after 100 steps. Success: True\n",
      "Episode 8/100 finished after 100 steps. Success: True\n",
      "Episode 9/100 finished after 100 steps. Success: True\n",
      "Episode 10/100 finished after 100 steps. Success: True\n",
      "Episode 11/100 finished after 100 steps. Success: True\n",
      "Episode 12/100 finished after 100 steps. Success: True\n",
      "Episode 13/100 finished after 100 steps. Success: True\n",
      "Episode 14/100 finished after 100 steps. Success: True\n",
      "Episode 15/100 finished after 100 steps. Success: True\n",
      "Episode 16/100 finished after 100 steps. Success: True\n",
      "Episode 17/100 finished after 100 steps. Success: True\n",
      "Episode 18/100 finished after 100 steps. Success: True\n",
      "Episode 19/100 finished after 100 steps. Success: True\n",
      "Episode 20/100 finished after 100 steps. Success: True\n",
      "Episode 21/100 finished after 100 steps. Success: True\n",
      "Episode 22/100 finished after 100 steps. Success: True\n",
      "Episode 23/100 finished after 100 steps. Success: True\n",
      "Episode 24/100 finished after 100 steps. Success: True\n",
      "Episode 25/100 finished after 100 steps. Success: True\n",
      "Episode 26/100 finished after 100 steps. Success: True\n",
      "Episode 27/100 finished after 100 steps. Success: True\n",
      "Episode 28/100 finished after 100 steps. Success: True\n",
      "Episode 29/100 finished after 100 steps. Success: True\n",
      "Episode 30/100 finished after 100 steps. Success: True\n",
      "Episode 31/100 finished after 100 steps. Success: True\n",
      "Episode 32/100 finished after 100 steps. Success: True\n",
      "Episode 33/100 finished after 100 steps. Success: True\n",
      "Episode 34/100 finished after 100 steps. Success: True\n",
      "Episode 35/100 finished after 100 steps. Success: True\n",
      "Episode 36/100 finished after 100 steps. Success: True\n",
      "Episode 37/100 finished after 100 steps. Success: True\n",
      "Episode 38/100 finished after 100 steps. Success: True\n",
      "Episode 39/100 finished after 100 steps. Success: True\n",
      "Episode 40/100 finished after 100 steps. Success: True\n",
      "Episode 41/100 finished after 100 steps. Success: True\n",
      "Episode 42/100 finished after 100 steps. Success: True\n",
      "Episode 43/100 finished after 100 steps. Success: True\n",
      "Episode 44/100 finished after 100 steps. Success: True\n",
      "Episode 45/100 finished after 100 steps. Success: True\n",
      "Episode 46/100 finished after 100 steps. Success: True\n",
      "Episode 47/100 finished after 100 steps. Success: True\n",
      "Episode 48/100 finished after 100 steps. Success: True\n",
      "Episode 49/100 finished after 100 steps. Success: True\n",
      "Episode 50/100 finished after 100 steps. Success: True\n",
      "Episode 51/100 finished after 100 steps. Success: True\n",
      "Episode 52/100 finished after 100 steps. Success: True\n",
      "Episode 53/100 finished after 100 steps. Success: True\n",
      "Episode 54/100 finished after 100 steps. Success: True\n",
      "Episode 55/100 finished after 100 steps. Success: True\n",
      "Episode 56/100 finished after 100 steps. Success: True\n",
      "Episode 57/100 finished after 100 steps. Success: True\n",
      "Episode 58/100 finished after 100 steps. Success: True\n",
      "Episode 59/100 finished after 100 steps. Success: True\n",
      "Episode 60/100 finished after 100 steps. Success: True\n",
      "Episode 61/100 finished after 100 steps. Success: True\n",
      "Episode 62/100 finished after 100 steps. Success: True\n",
      "Episode 63/100 finished after 100 steps. Success: True\n",
      "Episode 64/100 finished after 100 steps. Success: True\n",
      "Episode 65/100 finished after 100 steps. Success: True\n",
      "Episode 66/100 finished after 100 steps. Success: True\n",
      "Episode 67/100 finished after 100 steps. Success: True\n",
      "Episode 68/100 finished after 100 steps. Success: True\n",
      "Episode 69/100 finished after 100 steps. Success: True\n",
      "Episode 70/100 finished after 100 steps. Success: True\n",
      "Episode 71/100 finished after 100 steps. Success: True\n",
      "Episode 72/100 finished after 100 steps. Success: True\n",
      "Episode 73/100 finished after 100 steps. Success: True\n",
      "Episode 74/100 finished after 100 steps. Success: True\n",
      "Episode 75/100 finished after 100 steps. Success: True\n",
      "Episode 76/100 finished after 100 steps. Success: True\n",
      "Episode 77/100 finished after 100 steps. Success: True\n",
      "Episode 78/100 finished after 100 steps. Success: True\n",
      "Episode 79/100 finished after 100 steps. Success: True\n",
      "Episode 80/100 finished after 100 steps. Success: True\n",
      "Episode 81/100 finished after 100 steps. Success: True\n",
      "Episode 82/100 finished after 100 steps. Success: True\n",
      "Episode 83/100 finished after 100 steps. Success: True\n",
      "Episode 84/100 finished after 100 steps. Success: True\n",
      "Episode 85/100 finished after 100 steps. Success: True\n",
      "Episode 86/100 finished after 100 steps. Success: True\n",
      "Episode 87/100 finished after 100 steps. Success: True\n",
      "Episode 88/100 finished after 100 steps. Success: True\n",
      "Episode 89/100 finished after 100 steps. Success: True\n",
      "Episode 90/100 finished after 100 steps. Success: True\n",
      "Episode 91/100 finished after 100 steps. Success: True\n",
      "Episode 92/100 finished after 100 steps. Success: True\n",
      "Episode 93/100 finished after 100 steps. Success: True\n",
      "Episode 94/100 finished after 100 steps. Success: True\n",
      "Episode 95/100 finished after 100 steps. Success: True\n",
      "Episode 96/100 finished after 100 steps. Success: True\n",
      "Episode 97/100 finished after 100 steps. Success: True\n",
      "Episode 98/100 finished after 100 steps. Success: True\n",
      "Episode 99/100 finished after 100 steps. Success: True\n",
      "Episode 100/100 finished after 100 steps. Success: True\n",
      "Saved 100 expert trajectories to expert_trajectories.pkl\n"
     ]
    }
   ],
   "source": [
    "if __name__ == \"__main__\":\n",
    "    collect_expert_trajectories(num_episodes=100, max_steps=100, save_path=\"expert_trajectories.pkl\")"
   ]
  }
 ],
 "metadata": {
  "jupytext": {
   "cell_metadata_filter": "-all",
   "main_language": "python",
   "notebook_metadata_filter": "-all"
  },
  "kernelspec": {
   "display_name": "Python (surrol_env)",
   "language": "python",
   "name": "surrol_env"
  },
  "language_info": {
   "codemirror_mode": {
    "name": "ipython",
    "version": 3
   },
   "file_extension": ".py",
   "mimetype": "text/x-python",
   "name": "python",
   "nbconvert_exporter": "python",
   "pygments_lexer": "ipython3",
   "version": "3.9.22"
  }
 },
 "nbformat": 4,
 "nbformat_minor": 5
}
