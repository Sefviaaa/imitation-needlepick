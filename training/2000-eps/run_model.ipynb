{
 "cells": [
  {
   "cell_type": "code",
   "execution_count": 5,
   "id": "e2acf686",
   "metadata": {},
   "outputs": [],
   "source": [
    "import torch\n",
    "import numpy as np\n",
    "from surrol.tasks.needle_pick import NeedlePick\n",
    "from best_seed_train import MLPPolicy, LSTMPolicy  # Adjust if your policy code is elsewhere\n"
   ]
  },
  {
   "cell_type": "code",
   "execution_count": 6,
   "id": "df063835",
   "metadata": {},
   "outputs": [],
   "source": [
    "\n",
    "# --- CONFIG ---\n",
    "model_path = \"best6_multiseed/lstm_best_seed0.pth\"   # Path to your .pth file\n",
    "model_type = \"lstm\"  # \"mlp\" or \"lstm\"\n",
    "render = True        # Set True to visualize, False for headless\n",
    "episode_seed = 6    # Use None for random, or set for reproducibility\n",
    "max_steps = 200\n"
   ]
  },
  {
   "cell_type": "code",
   "execution_count": 7,
   "id": "32f955b9",
   "metadata": {},
   "outputs": [],
   "source": [
    "\n",
    "# --- Observation/Action dims ---\n",
    "# Load one trajectory to get obs/act dims\n",
    "import pickle, os\n",
    "with open(os.path.join(\"expert_trajectories.pkl\"), \"rb\") as f:\n",
    "    expert_trajs = pickle.load(f)\n",
    "obs_example = expert_trajs[0]['observations'][0]\n",
    "obs_dim = (\n",
    "    obs_example['observation'].shape[0]\n",
    "    + obs_example['achieved_goal'].shape[0]\n",
    "    + obs_example['desired_goal'].shape[0]\n",
    ")\n",
    "act_dim = expert_trajs[0]['actions'][0].shape[0]\n"
   ]
  },
  {
   "cell_type": "code",
   "execution_count": 8,
   "id": "a0541c0f",
   "metadata": {},
   "outputs": [
    {
     "name": "stdout",
     "output_type": "stream",
     "text": [
      "Selected device: mps\n"
     ]
    },
    {
     "ename": "RuntimeError",
     "evalue": "Error(s) in loading state_dict for LSTMPolicy:\n\tMissing key(s) in state_dict: \"lstm.weight_ih_l1\", \"lstm.weight_hh_l1\", \"lstm.bias_ih_l1\", \"lstm.bias_hh_l1\". \n\tsize mismatch for lstm.weight_ih_l0: copying a param with shape torch.Size([512, 25]) from checkpoint, the shape in current model is torch.Size([1024, 25]).\n\tsize mismatch for lstm.weight_hh_l0: copying a param with shape torch.Size([512, 128]) from checkpoint, the shape in current model is torch.Size([1024, 256]).\n\tsize mismatch for lstm.bias_ih_l0: copying a param with shape torch.Size([512]) from checkpoint, the shape in current model is torch.Size([1024]).\n\tsize mismatch for lstm.bias_hh_l0: copying a param with shape torch.Size([512]) from checkpoint, the shape in current model is torch.Size([1024]).\n\tsize mismatch for fc.weight: copying a param with shape torch.Size([5, 128]) from checkpoint, the shape in current model is torch.Size([5, 256]).",
     "output_type": "error",
     "traceback": [
      "\u001b[0;31m---------------------------------------------------------------------------\u001b[0m",
      "\u001b[0;31mRuntimeError\u001b[0m                              Traceback (most recent call last)",
      "Cell \u001b[0;32mIn[8], line 12\u001b[0m\n\u001b[1;32m      9\u001b[0m \u001b[38;5;28;01melse\u001b[39;00m:\n\u001b[1;32m     10\u001b[0m     \u001b[38;5;28;01mraise\u001b[39;00m \u001b[38;5;167;01mValueError\u001b[39;00m(\u001b[38;5;124m\"\u001b[39m\u001b[38;5;124mmodel_type must be \u001b[39m\u001b[38;5;124m'\u001b[39m\u001b[38;5;124mmlp\u001b[39m\u001b[38;5;124m'\u001b[39m\u001b[38;5;124m or \u001b[39m\u001b[38;5;124m'\u001b[39m\u001b[38;5;124mlstm\u001b[39m\u001b[38;5;124m'\u001b[39m\u001b[38;5;124m\"\u001b[39m)\n\u001b[0;32m---> 12\u001b[0m \u001b[43mpolicy\u001b[49m\u001b[38;5;241;43m.\u001b[39;49m\u001b[43mload_state_dict\u001b[49m\u001b[43m(\u001b[49m\u001b[43mtorch\u001b[49m\u001b[38;5;241;43m.\u001b[39;49m\u001b[43mload\u001b[49m\u001b[43m(\u001b[49m\u001b[43mmodel_path\u001b[49m\u001b[43m,\u001b[49m\u001b[43m \u001b[49m\u001b[43mmap_location\u001b[49m\u001b[38;5;241;43m=\u001b[39;49m\u001b[43mdevice\u001b[49m\u001b[43m)\u001b[49m\u001b[43m)\u001b[49m\n\u001b[1;32m     13\u001b[0m policy\u001b[38;5;241m.\u001b[39meval()\n",
      "File \u001b[0;32m~/miniforge3x86/envs/surrol_env/lib/python3.9/site-packages/torch/nn/modules/module.py:2153\u001b[0m, in \u001b[0;36mModule.load_state_dict\u001b[0;34m(self, state_dict, strict, assign)\u001b[0m\n\u001b[1;32m   2148\u001b[0m         error_msgs\u001b[38;5;241m.\u001b[39minsert(\n\u001b[1;32m   2149\u001b[0m             \u001b[38;5;241m0\u001b[39m, \u001b[38;5;124m'\u001b[39m\u001b[38;5;124mMissing key(s) in state_dict: \u001b[39m\u001b[38;5;132;01m{}\u001b[39;00m\u001b[38;5;124m. \u001b[39m\u001b[38;5;124m'\u001b[39m\u001b[38;5;241m.\u001b[39mformat(\n\u001b[1;32m   2150\u001b[0m                 \u001b[38;5;124m'\u001b[39m\u001b[38;5;124m, \u001b[39m\u001b[38;5;124m'\u001b[39m\u001b[38;5;241m.\u001b[39mjoin(\u001b[38;5;124mf\u001b[39m\u001b[38;5;124m'\u001b[39m\u001b[38;5;124m\"\u001b[39m\u001b[38;5;132;01m{\u001b[39;00mk\u001b[38;5;132;01m}\u001b[39;00m\u001b[38;5;124m\"\u001b[39m\u001b[38;5;124m'\u001b[39m \u001b[38;5;28;01mfor\u001b[39;00m k \u001b[38;5;129;01min\u001b[39;00m missing_keys)))\n\u001b[1;32m   2152\u001b[0m \u001b[38;5;28;01mif\u001b[39;00m \u001b[38;5;28mlen\u001b[39m(error_msgs) \u001b[38;5;241m>\u001b[39m \u001b[38;5;241m0\u001b[39m:\n\u001b[0;32m-> 2153\u001b[0m     \u001b[38;5;28;01mraise\u001b[39;00m \u001b[38;5;167;01mRuntimeError\u001b[39;00m(\u001b[38;5;124m'\u001b[39m\u001b[38;5;124mError(s) in loading state_dict for \u001b[39m\u001b[38;5;132;01m{}\u001b[39;00m\u001b[38;5;124m:\u001b[39m\u001b[38;5;130;01m\\n\u001b[39;00m\u001b[38;5;130;01m\\t\u001b[39;00m\u001b[38;5;132;01m{}\u001b[39;00m\u001b[38;5;124m'\u001b[39m\u001b[38;5;241m.\u001b[39mformat(\n\u001b[1;32m   2154\u001b[0m                        \u001b[38;5;28mself\u001b[39m\u001b[38;5;241m.\u001b[39m\u001b[38;5;18m__class__\u001b[39m\u001b[38;5;241m.\u001b[39m\u001b[38;5;18m__name__\u001b[39m, \u001b[38;5;124m\"\u001b[39m\u001b[38;5;130;01m\\n\u001b[39;00m\u001b[38;5;130;01m\\t\u001b[39;00m\u001b[38;5;124m\"\u001b[39m\u001b[38;5;241m.\u001b[39mjoin(error_msgs)))\n\u001b[1;32m   2155\u001b[0m \u001b[38;5;28;01mreturn\u001b[39;00m _IncompatibleKeys(missing_keys, unexpected_keys)\n",
      "\u001b[0;31mRuntimeError\u001b[0m: Error(s) in loading state_dict for LSTMPolicy:\n\tMissing key(s) in state_dict: \"lstm.weight_ih_l1\", \"lstm.weight_hh_l1\", \"lstm.bias_ih_l1\", \"lstm.bias_hh_l1\". \n\tsize mismatch for lstm.weight_ih_l0: copying a param with shape torch.Size([512, 25]) from checkpoint, the shape in current model is torch.Size([1024, 25]).\n\tsize mismatch for lstm.weight_hh_l0: copying a param with shape torch.Size([512, 128]) from checkpoint, the shape in current model is torch.Size([1024, 256]).\n\tsize mismatch for lstm.bias_ih_l0: copying a param with shape torch.Size([512]) from checkpoint, the shape in current model is torch.Size([1024]).\n\tsize mismatch for lstm.bias_hh_l0: copying a param with shape torch.Size([512]) from checkpoint, the shape in current model is torch.Size([1024]).\n\tsize mismatch for fc.weight: copying a param with shape torch.Size([5, 128]) from checkpoint, the shape in current model is torch.Size([5, 256])."
     ]
    }
   ],
   "source": [
    " \n",
    "# --- Build policy and load weights ---\n",
    "device = torch. device('mps' if torch.backends.mps.is_available() else 'cpu')\n",
    "print(\"Selected device:\", device)\n",
    "\n",
    "if model_type == \"mlp\":\n",
    "    policy = MLPPolicy(obs_dim, act_dim, hidden_sizes=(256, 256)).to(device)\n",
    "elif model_type == \"lstm\":\n",
    "    policy = LSTMPolicy(obs_dim, act_dim, hidden_size=256, num_layers=2).to(device)\n",
    "else:\n",
    "    raise ValueError(\"model_type must be 'mlp' or 'lstm'\")\n",
    "\n",
    "policy.load_state_dict(torch.load(model_path, map_location=device))\n",
    "policy.eval()"
   ]
  },
  {
   "cell_type": "code",
   "execution_count": null,
   "id": "c12a19cd",
   "metadata": {},
   "outputs": [
    {
     "name": "stdout",
     "output_type": "stream",
     "text": [
      "Version = 4.1 Metal - 89.3\n",
      "Vendor = Apple\n",
      "Renderer = Apple M2\n",
      "b3Printf: Selected demo: Physics Server\n",
      "startThreads creating 1 threads.\n",
      "starting thread 0\n",
      "started thread 0 \n",
      "MotionThreadFunc thread started\n"
     ]
    },
    {
     "name": "stderr",
     "output_type": "stream",
     "text": [
      "2025-06-29 20:35:51.878 python[35893:15022927] +[IMKClient subclass]: chose IMKClient_Modern\n",
      "2025-06-29 20:35:51.878 python[35893:15022927] +[IMKInputSession subclass]: chose IMKInputSession_Modern\n"
     ]
    },
    {
     "name": "stdout",
     "output_type": "stream",
     "text": [
      "Success at step 37\n",
      "Episode finished. Total reward: -37.00, Success: True\n",
      "numActiveThreads = 0\n",
      "stopping threads\n",
      "Thread with taskId 0 exiting\n",
      "Thread TERMINATED\n",
      "destroy semaphore\n",
      "semaphore destroyed\n",
      "destroy main semaphore\n",
      "main semaphore destroyed\n"
     ]
    },
    {
     "ename": "",
     "evalue": "",
     "output_type": "error",
     "traceback": [
      "\u001b[1;31mThe Kernel crashed while executing code in the current cell or a previous cell. \n",
      "\u001b[1;31mPlease review the code in the cell(s) to identify a possible cause of the failure. \n",
      "\u001b[1;31mClick <a href='https://aka.ms/vscodeJupyterKernelCrash'>here</a> for more info. \n",
      "\u001b[1;31mView Jupyter <a href='command:jupyter.viewOutput'>log</a> for further details."
     ]
    }
   ],
   "source": [
    "\n",
    "# --- Environment Setup ---\n",
    "if episode_seed is not None:\n",
    "    np.random.seed(episode_seed)\n",
    "env = NeedlePick(render_mode=\"human\" if render else None)\n",
    "obs = env.reset()\n",
    "\n",
    "def concat_obs(obs):\n",
    "    return np.concatenate([obs['observation'], obs['achieved_goal'], obs['desired_goal']])\n",
    "\n",
    "total_reward = 0\n",
    "success = False\n",
    "hidden = None\n",
    "\n",
    "for step in range(max_steps):\n",
    "    obs_in = concat_obs(obs)\n",
    "    if model_type == \"mlp\":\n",
    "        inp = torch.tensor(obs_in, dtype=torch.float32).unsqueeze(0).to(device)\n",
    "        with torch.no_grad():\n",
    "            action = policy(inp).cpu().numpy().squeeze(0)\n",
    "    else:\n",
    "        inp = torch.tensor(obs_in, dtype=torch.float32).unsqueeze(0).unsqueeze(0).to(device)\n",
    "        with torch.no_grad():\n",
    "            action_tensor, hidden = policy(inp, hidden)\n",
    "            action = action_tensor.cpu().numpy().squeeze(0).squeeze(0)\n",
    "    # Optional: clip to action space if needed\n",
    "    if hasattr(env, 'action_space'):\n",
    "        action = np.clip(action, env.action_space.low, env.action_space.high)\n",
    "    obs, reward, done, info = env.step(action)\n",
    "    total_reward += reward\n",
    "    if info.get('is_success', False):\n",
    "        print(f\"Success at step {step}\")\n",
    "        success = True\n",
    "        break\n",
    "    if done:\n",
    "        break\n",
    "\n",
    "print(f\"Episode finished. Total reward: {total_reward:.2f}, Success: {success}\")\n",
    "env.close()"
   ]
  }
 ],
 "metadata": {
  "kernelspec": {
   "display_name": "surrol_env",
   "language": "python",
   "name": "python3"
  },
  "language_info": {
   "codemirror_mode": {
    "name": "ipython",
    "version": 3
   },
   "file_extension": ".py",
   "mimetype": "text/x-python",
   "name": "python",
   "nbconvert_exporter": "python",
   "pygments_lexer": "ipython3",
   "version": "3.9.21"
  }
 },
 "nbformat": 4,
 "nbformat_minor": 5
}
